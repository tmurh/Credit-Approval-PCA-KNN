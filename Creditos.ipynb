{
 "cells": [
  {
   "cell_type": "markdown",
   "metadata": {},
   "source": [
    "# Data Dictionary: \n",
    "\n",
    "-CUST_ID: Credit card holder ID \\\n",
    "-BALANCE: Monthly average balance (based on daily balance averages)\\\n",
    "-BALANCE_FREQUENCY: Ratio of last 12 months with balance\\\n",
    "-PURCHASES: Total purchase amount spent during last 12 months\\\n",
    "-ONEOFF_PURCHASES: Total amount of one-off purchases\\\n",
    "-INSTALLMENTS_PURCHASES: Total amount of installment purchases\\\n",
    "-CASH_ADVANCE: Total cash-advance amount\\\n",
    "-PURCHASES_ FREQUENCY: Frequency of purchases (Percent of months with at least one purchase)\\\n",
    "-ONEOFF_PURCHASES_FREQUENCY: Frequency of one-off-purchases PURCHASES_INSTALLMENTS_FREQUENCY: Frequency of installment -purchases\\\n",
    "-CASH_ADVANCE_ FREQUENCY: Cash-Advance frequency\\\n",
    "-AVERAGE_PURCHASE_TRX: Average amount per purchase transaction\\\n",
    "-CASH_ADVANCE_TRX: Average amount per cash-advance transaction\\\n",
    "-PURCHASES_TRX: Average amount per purchase transaction\\\n",
    "-CREDIT_LIMIT: Credit limit\\\n",
    "-PAYMENTS: Total payments (due amount paid by the customer to decrease their statement balance) in the period\\\n",
    "-MINIMUM_PAYMENTS: Total minimum payments due in the period.\\\n",
    "-PRC_FULL_PAYMEN: Percentage of months with full payment of the due statement balance\\\n",
    "-TENURE: Number of months as a customer"
   ]
  },
  {
   "cell_type": "markdown",
   "metadata": {},
   "source": [
    "# Importo librerias"
   ]
  },
  {
   "cell_type": "code",
   "execution_count": 5,
   "metadata": {},
   "outputs": [],
   "source": [
    "import numpy as np\n",
    "import pandas as pd\n",
    "import matplotlib.pyplot as plt\n",
    "import matplotlib.cm as cm\n",
    "import seaborn as sns\n",
    "#Machine learning\n",
    "from sklearn import preprocessing\n",
    "from sklearn.cluster import KMeans\n",
    "from sklearn.preprocessing import StandardScaler\n",
    "from sklearn import metrics\n",
    "from sklearn.decomposition import PCA\n",
    "import sklearn.cluster as cluster\n",
    "from sklearn.metrics import silhouette_score\n",
    "import time\n",
    "%matplotlib inline"
   ]
  },
  {
   "cell_type": "code",
   "execution_count": 6,
   "metadata": {},
   "outputs": [],
   "source": [
    "df = pd.read_csv(r'C:\\Users\\mur_9\\OneDrive\\Documentos\\Code\\clusterai\\cv\\Approval Credit\\dataset_credit.csv',)"
   ]
  },
  {
   "cell_type": "code",
   "execution_count": 7,
   "metadata": {},
   "outputs": [
    {
     "data": {
      "text/html": [
       "<div>\n",
       "<style scoped>\n",
       "    .dataframe tbody tr th:only-of-type {\n",
       "        vertical-align: middle;\n",
       "    }\n",
       "\n",
       "    .dataframe tbody tr th {\n",
       "        vertical-align: top;\n",
       "    }\n",
       "\n",
       "    .dataframe thead th {\n",
       "        text-align: right;\n",
       "    }\n",
       "</style>\n",
       "<table border=\"1\" class=\"dataframe\">\n",
       "  <thead>\n",
       "    <tr style=\"text-align: right;\">\n",
       "      <th></th>\n",
       "      <th>CUST_ID</th>\n",
       "      <th>BALANCE</th>\n",
       "      <th>BALANCE_FREQUENCY</th>\n",
       "      <th>PURCHASES</th>\n",
       "      <th>ONEOFF_PURCHASES</th>\n",
       "      <th>INSTALLMENTS_PURCHASES</th>\n",
       "      <th>CASH_ADVANCE</th>\n",
       "      <th>PURCHASES_FREQUENCY</th>\n",
       "      <th>ONEOFF_PURCHASES_FREQUENCY</th>\n",
       "      <th>PURCHASES_INSTALLMENTS_FREQUENCY</th>\n",
       "      <th>CASH_ADVANCE_FREQUENCY</th>\n",
       "      <th>CASH_ADVANCE_TRX</th>\n",
       "      <th>PURCHASES_TRX</th>\n",
       "      <th>CREDIT_LIMIT</th>\n",
       "      <th>PAYMENTS</th>\n",
       "      <th>MINIMUM_PAYMENTS</th>\n",
       "      <th>PRC_FULL_PAYMENT</th>\n",
       "      <th>TENURE</th>\n",
       "    </tr>\n",
       "  </thead>\n",
       "  <tbody>\n",
       "    <tr>\n",
       "      <th>0</th>\n",
       "      <td>C10001</td>\n",
       "      <td>40.900749</td>\n",
       "      <td>0.818182</td>\n",
       "      <td>95.40</td>\n",
       "      <td>0.00</td>\n",
       "      <td>95.4</td>\n",
       "      <td>0.000000</td>\n",
       "      <td>0.166667</td>\n",
       "      <td>0.000000</td>\n",
       "      <td>0.083333</td>\n",
       "      <td>0.000000</td>\n",
       "      <td>0</td>\n",
       "      <td>2</td>\n",
       "      <td>1000.0</td>\n",
       "      <td>201.802084</td>\n",
       "      <td>139.509787</td>\n",
       "      <td>0.000000</td>\n",
       "      <td>12</td>\n",
       "    </tr>\n",
       "    <tr>\n",
       "      <th>1</th>\n",
       "      <td>C10002</td>\n",
       "      <td>3202.467416</td>\n",
       "      <td>0.909091</td>\n",
       "      <td>0.00</td>\n",
       "      <td>0.00</td>\n",
       "      <td>0.0</td>\n",
       "      <td>6442.945483</td>\n",
       "      <td>0.000000</td>\n",
       "      <td>0.000000</td>\n",
       "      <td>0.000000</td>\n",
       "      <td>0.250000</td>\n",
       "      <td>4</td>\n",
       "      <td>0</td>\n",
       "      <td>7000.0</td>\n",
       "      <td>4103.032597</td>\n",
       "      <td>1072.340217</td>\n",
       "      <td>0.222222</td>\n",
       "      <td>12</td>\n",
       "    </tr>\n",
       "    <tr>\n",
       "      <th>2</th>\n",
       "      <td>C10003</td>\n",
       "      <td>2495.148862</td>\n",
       "      <td>1.000000</td>\n",
       "      <td>773.17</td>\n",
       "      <td>773.17</td>\n",
       "      <td>0.0</td>\n",
       "      <td>0.000000</td>\n",
       "      <td>1.000000</td>\n",
       "      <td>1.000000</td>\n",
       "      <td>0.000000</td>\n",
       "      <td>0.000000</td>\n",
       "      <td>0</td>\n",
       "      <td>12</td>\n",
       "      <td>7500.0</td>\n",
       "      <td>622.066742</td>\n",
       "      <td>627.284787</td>\n",
       "      <td>0.000000</td>\n",
       "      <td>12</td>\n",
       "    </tr>\n",
       "    <tr>\n",
       "      <th>3</th>\n",
       "      <td>C10004</td>\n",
       "      <td>1666.670542</td>\n",
       "      <td>0.636364</td>\n",
       "      <td>1499.00</td>\n",
       "      <td>1499.00</td>\n",
       "      <td>0.0</td>\n",
       "      <td>205.788017</td>\n",
       "      <td>0.083333</td>\n",
       "      <td>0.083333</td>\n",
       "      <td>0.000000</td>\n",
       "      <td>0.083333</td>\n",
       "      <td>1</td>\n",
       "      <td>1</td>\n",
       "      <td>7500.0</td>\n",
       "      <td>0.000000</td>\n",
       "      <td>NaN</td>\n",
       "      <td>0.000000</td>\n",
       "      <td>12</td>\n",
       "    </tr>\n",
       "    <tr>\n",
       "      <th>4</th>\n",
       "      <td>C10005</td>\n",
       "      <td>817.714335</td>\n",
       "      <td>1.000000</td>\n",
       "      <td>16.00</td>\n",
       "      <td>16.00</td>\n",
       "      <td>0.0</td>\n",
       "      <td>0.000000</td>\n",
       "      <td>0.083333</td>\n",
       "      <td>0.083333</td>\n",
       "      <td>0.000000</td>\n",
       "      <td>0.000000</td>\n",
       "      <td>0</td>\n",
       "      <td>1</td>\n",
       "      <td>1200.0</td>\n",
       "      <td>678.334763</td>\n",
       "      <td>244.791237</td>\n",
       "      <td>0.000000</td>\n",
       "      <td>12</td>\n",
       "    </tr>\n",
       "  </tbody>\n",
       "</table>\n",
       "</div>"
      ],
      "text/plain": [
       "  CUST_ID      BALANCE  BALANCE_FREQUENCY  PURCHASES  ONEOFF_PURCHASES  \\\n",
       "0  C10001    40.900749           0.818182      95.40              0.00   \n",
       "1  C10002  3202.467416           0.909091       0.00              0.00   \n",
       "2  C10003  2495.148862           1.000000     773.17            773.17   \n",
       "3  C10004  1666.670542           0.636364    1499.00           1499.00   \n",
       "4  C10005   817.714335           1.000000      16.00             16.00   \n",
       "\n",
       "   INSTALLMENTS_PURCHASES  CASH_ADVANCE  PURCHASES_FREQUENCY  \\\n",
       "0                    95.4      0.000000             0.166667   \n",
       "1                     0.0   6442.945483             0.000000   \n",
       "2                     0.0      0.000000             1.000000   \n",
       "3                     0.0    205.788017             0.083333   \n",
       "4                     0.0      0.000000             0.083333   \n",
       "\n",
       "   ONEOFF_PURCHASES_FREQUENCY  PURCHASES_INSTALLMENTS_FREQUENCY  \\\n",
       "0                    0.000000                          0.083333   \n",
       "1                    0.000000                          0.000000   \n",
       "2                    1.000000                          0.000000   \n",
       "3                    0.083333                          0.000000   \n",
       "4                    0.083333                          0.000000   \n",
       "\n",
       "   CASH_ADVANCE_FREQUENCY  CASH_ADVANCE_TRX  PURCHASES_TRX  CREDIT_LIMIT  \\\n",
       "0                0.000000                 0              2        1000.0   \n",
       "1                0.250000                 4              0        7000.0   \n",
       "2                0.000000                 0             12        7500.0   \n",
       "3                0.083333                 1              1        7500.0   \n",
       "4                0.000000                 0              1        1200.0   \n",
       "\n",
       "      PAYMENTS  MINIMUM_PAYMENTS  PRC_FULL_PAYMENT  TENURE  \n",
       "0   201.802084        139.509787          0.000000      12  \n",
       "1  4103.032597       1072.340217          0.222222      12  \n",
       "2   622.066742        627.284787          0.000000      12  \n",
       "3     0.000000               NaN          0.000000      12  \n",
       "4   678.334763        244.791237          0.000000      12  "
      ]
     },
     "execution_count": 7,
     "metadata": {},
     "output_type": "execute_result"
    }
   ],
   "source": [
    "df.head()"
   ]
  },
  {
   "cell_type": "code",
   "execution_count": 8,
   "metadata": {},
   "outputs": [],
   "source": [
    "df.drop('CUST_ID',axis=1,inplace=True)"
   ]
  },
  {
   "cell_type": "code",
   "execution_count": 9,
   "metadata": {},
   "outputs": [
    {
     "data": {
      "text/plain": [
       "(8950, 17)"
      ]
     },
     "execution_count": 9,
     "metadata": {},
     "output_type": "execute_result"
    }
   ],
   "source": [
    "shapev=df.shape\n",
    "shapev"
   ]
  },
  {
   "cell_type": "code",
   "execution_count": 10,
   "metadata": {},
   "outputs": [
    {
     "data": {
      "text/plain": [
       "BALANCE                               0\n",
       "BALANCE_FREQUENCY                     0\n",
       "PURCHASES                             0\n",
       "ONEOFF_PURCHASES                      0\n",
       "INSTALLMENTS_PURCHASES                0\n",
       "CASH_ADVANCE                          0\n",
       "PURCHASES_FREQUENCY                   0\n",
       "ONEOFF_PURCHASES_FREQUENCY            0\n",
       "PURCHASES_INSTALLMENTS_FREQUENCY      0\n",
       "CASH_ADVANCE_FREQUENCY                0\n",
       "CASH_ADVANCE_TRX                      0\n",
       "PURCHASES_TRX                         0\n",
       "CREDIT_LIMIT                          1\n",
       "PAYMENTS                              0\n",
       "MINIMUM_PAYMENTS                    313\n",
       "PRC_FULL_PAYMENT                      0\n",
       "TENURE                                0\n",
       "dtype: int64"
      ]
     },
     "execution_count": 10,
     "metadata": {},
     "output_type": "execute_result"
    }
   ],
   "source": [
    "#Reviso los NaN\n",
    "df.isnull().sum()"
   ]
  },
  {
   "cell_type": "code",
   "execution_count": 11,
   "metadata": {},
   "outputs": [
    {
     "name": "stdout",
     "output_type": "stream",
     "text": [
      "Me quedan un total de 8636 filas, se eliminaron 314.\n",
      " Representando un total de 3.5083798882681565 del df.\n"
     ]
    }
   ],
   "source": [
    "#Como el peso total de los NaN es bajo con respecto a la muestra los saco\n",
    "df.dropna(inplace=True)\n",
    "df.isnull().sum()\n",
    "print(f'Me quedan un total de {df.shape[0]} filas, se eliminaron {shapev[0]-df.shape[0]}.\\\n",
    "\\n Representando un total de {((shapev[0]-df.shape[0])/shapev[0])*100} del df.' )"
   ]
  },
  {
   "cell_type": "code",
   "execution_count": 12,
   "metadata": {},
   "outputs": [
    {
     "data": {
      "text/html": [
       "<div>\n",
       "<style scoped>\n",
       "    .dataframe tbody tr th:only-of-type {\n",
       "        vertical-align: middle;\n",
       "    }\n",
       "\n",
       "    .dataframe tbody tr th {\n",
       "        vertical-align: top;\n",
       "    }\n",
       "\n",
       "    .dataframe thead th {\n",
       "        text-align: right;\n",
       "    }\n",
       "</style>\n",
       "<table border=\"1\" class=\"dataframe\">\n",
       "  <thead>\n",
       "    <tr style=\"text-align: right;\">\n",
       "      <th></th>\n",
       "      <th>BALANCE</th>\n",
       "      <th>BALANCE_FREQUENCY</th>\n",
       "      <th>PURCHASES</th>\n",
       "      <th>ONEOFF_PURCHASES</th>\n",
       "      <th>INSTALLMENTS_PURCHASES</th>\n",
       "      <th>CASH_ADVANCE</th>\n",
       "      <th>PURCHASES_FREQUENCY</th>\n",
       "      <th>ONEOFF_PURCHASES_FREQUENCY</th>\n",
       "      <th>PURCHASES_INSTALLMENTS_FREQUENCY</th>\n",
       "      <th>CASH_ADVANCE_FREQUENCY</th>\n",
       "      <th>CASH_ADVANCE_TRX</th>\n",
       "      <th>PURCHASES_TRX</th>\n",
       "      <th>CREDIT_LIMIT</th>\n",
       "      <th>PAYMENTS</th>\n",
       "      <th>MINIMUM_PAYMENTS</th>\n",
       "      <th>PRC_FULL_PAYMENT</th>\n",
       "      <th>TENURE</th>\n",
       "    </tr>\n",
       "  </thead>\n",
       "  <tbody>\n",
       "    <tr>\n",
       "      <th>count</th>\n",
       "      <td>8636.000000</td>\n",
       "      <td>8636.000000</td>\n",
       "      <td>8636.000000</td>\n",
       "      <td>8636.000000</td>\n",
       "      <td>8636.000000</td>\n",
       "      <td>8636.000000</td>\n",
       "      <td>8636.000000</td>\n",
       "      <td>8636.000000</td>\n",
       "      <td>8636.000000</td>\n",
       "      <td>8636.000000</td>\n",
       "      <td>8636.000000</td>\n",
       "      <td>8636.000000</td>\n",
       "      <td>8636.000000</td>\n",
       "      <td>8636.000000</td>\n",
       "      <td>8636.000000</td>\n",
       "      <td>8636.000000</td>\n",
       "      <td>8636.000000</td>\n",
       "    </tr>\n",
       "    <tr>\n",
       "      <th>mean</th>\n",
       "      <td>1601.224893</td>\n",
       "      <td>0.895035</td>\n",
       "      <td>1025.433874</td>\n",
       "      <td>604.901438</td>\n",
       "      <td>420.843533</td>\n",
       "      <td>994.175523</td>\n",
       "      <td>0.496000</td>\n",
       "      <td>0.205909</td>\n",
       "      <td>0.368820</td>\n",
       "      <td>0.137604</td>\n",
       "      <td>3.313918</td>\n",
       "      <td>15.033233</td>\n",
       "      <td>4522.091030</td>\n",
       "      <td>1784.478099</td>\n",
       "      <td>864.304943</td>\n",
       "      <td>0.159304</td>\n",
       "      <td>11.534391</td>\n",
       "    </tr>\n",
       "    <tr>\n",
       "      <th>std</th>\n",
       "      <td>2095.571300</td>\n",
       "      <td>0.207697</td>\n",
       "      <td>2167.107984</td>\n",
       "      <td>1684.307803</td>\n",
       "      <td>917.245182</td>\n",
       "      <td>2121.458303</td>\n",
       "      <td>0.401273</td>\n",
       "      <td>0.300054</td>\n",
       "      <td>0.398093</td>\n",
       "      <td>0.201791</td>\n",
       "      <td>6.912506</td>\n",
       "      <td>25.180468</td>\n",
       "      <td>3659.240379</td>\n",
       "      <td>2909.810090</td>\n",
       "      <td>2372.566350</td>\n",
       "      <td>0.296271</td>\n",
       "      <td>1.310984</td>\n",
       "    </tr>\n",
       "    <tr>\n",
       "      <th>min</th>\n",
       "      <td>0.000000</td>\n",
       "      <td>0.000000</td>\n",
       "      <td>0.000000</td>\n",
       "      <td>0.000000</td>\n",
       "      <td>0.000000</td>\n",
       "      <td>0.000000</td>\n",
       "      <td>0.000000</td>\n",
       "      <td>0.000000</td>\n",
       "      <td>0.000000</td>\n",
       "      <td>0.000000</td>\n",
       "      <td>0.000000</td>\n",
       "      <td>0.000000</td>\n",
       "      <td>50.000000</td>\n",
       "      <td>0.049513</td>\n",
       "      <td>0.019163</td>\n",
       "      <td>0.000000</td>\n",
       "      <td>6.000000</td>\n",
       "    </tr>\n",
       "    <tr>\n",
       "      <th>25%</th>\n",
       "      <td>148.095189</td>\n",
       "      <td>0.909091</td>\n",
       "      <td>43.367500</td>\n",
       "      <td>0.000000</td>\n",
       "      <td>0.000000</td>\n",
       "      <td>0.000000</td>\n",
       "      <td>0.083333</td>\n",
       "      <td>0.000000</td>\n",
       "      <td>0.000000</td>\n",
       "      <td>0.000000</td>\n",
       "      <td>0.000000</td>\n",
       "      <td>1.000000</td>\n",
       "      <td>1600.000000</td>\n",
       "      <td>418.559237</td>\n",
       "      <td>169.163545</td>\n",
       "      <td>0.000000</td>\n",
       "      <td>12.000000</td>\n",
       "    </tr>\n",
       "    <tr>\n",
       "      <th>50%</th>\n",
       "      <td>916.855459</td>\n",
       "      <td>1.000000</td>\n",
       "      <td>375.405000</td>\n",
       "      <td>44.995000</td>\n",
       "      <td>94.785000</td>\n",
       "      <td>0.000000</td>\n",
       "      <td>0.500000</td>\n",
       "      <td>0.083333</td>\n",
       "      <td>0.166667</td>\n",
       "      <td>0.000000</td>\n",
       "      <td>0.000000</td>\n",
       "      <td>7.000000</td>\n",
       "      <td>3000.000000</td>\n",
       "      <td>896.675701</td>\n",
       "      <td>312.452292</td>\n",
       "      <td>0.000000</td>\n",
       "      <td>12.000000</td>\n",
       "    </tr>\n",
       "    <tr>\n",
       "      <th>75%</th>\n",
       "      <td>2105.195853</td>\n",
       "      <td>1.000000</td>\n",
       "      <td>1145.980000</td>\n",
       "      <td>599.100000</td>\n",
       "      <td>484.147500</td>\n",
       "      <td>1132.385490</td>\n",
       "      <td>0.916667</td>\n",
       "      <td>0.333333</td>\n",
       "      <td>0.750000</td>\n",
       "      <td>0.250000</td>\n",
       "      <td>4.000000</td>\n",
       "      <td>18.000000</td>\n",
       "      <td>6500.000000</td>\n",
       "      <td>1951.142090</td>\n",
       "      <td>825.496463</td>\n",
       "      <td>0.166667</td>\n",
       "      <td>12.000000</td>\n",
       "    </tr>\n",
       "    <tr>\n",
       "      <th>max</th>\n",
       "      <td>19043.138560</td>\n",
       "      <td>1.000000</td>\n",
       "      <td>49039.570000</td>\n",
       "      <td>40761.250000</td>\n",
       "      <td>22500.000000</td>\n",
       "      <td>47137.211760</td>\n",
       "      <td>1.000000</td>\n",
       "      <td>1.000000</td>\n",
       "      <td>1.000000</td>\n",
       "      <td>1.500000</td>\n",
       "      <td>123.000000</td>\n",
       "      <td>358.000000</td>\n",
       "      <td>30000.000000</td>\n",
       "      <td>50721.483360</td>\n",
       "      <td>76406.207520</td>\n",
       "      <td>1.000000</td>\n",
       "      <td>12.000000</td>\n",
       "    </tr>\n",
       "  </tbody>\n",
       "</table>\n",
       "</div>"
      ],
      "text/plain": [
       "            BALANCE  BALANCE_FREQUENCY     PURCHASES  ONEOFF_PURCHASES  \\\n",
       "count   8636.000000        8636.000000   8636.000000       8636.000000   \n",
       "mean    1601.224893           0.895035   1025.433874        604.901438   \n",
       "std     2095.571300           0.207697   2167.107984       1684.307803   \n",
       "min        0.000000           0.000000      0.000000          0.000000   \n",
       "25%      148.095189           0.909091     43.367500          0.000000   \n",
       "50%      916.855459           1.000000    375.405000         44.995000   \n",
       "75%     2105.195853           1.000000   1145.980000        599.100000   \n",
       "max    19043.138560           1.000000  49039.570000      40761.250000   \n",
       "\n",
       "       INSTALLMENTS_PURCHASES  CASH_ADVANCE  PURCHASES_FREQUENCY  \\\n",
       "count             8636.000000   8636.000000          8636.000000   \n",
       "mean               420.843533    994.175523             0.496000   \n",
       "std                917.245182   2121.458303             0.401273   \n",
       "min                  0.000000      0.000000             0.000000   \n",
       "25%                  0.000000      0.000000             0.083333   \n",
       "50%                 94.785000      0.000000             0.500000   \n",
       "75%                484.147500   1132.385490             0.916667   \n",
       "max              22500.000000  47137.211760             1.000000   \n",
       "\n",
       "       ONEOFF_PURCHASES_FREQUENCY  PURCHASES_INSTALLMENTS_FREQUENCY  \\\n",
       "count                 8636.000000                       8636.000000   \n",
       "mean                     0.205909                          0.368820   \n",
       "std                      0.300054                          0.398093   \n",
       "min                      0.000000                          0.000000   \n",
       "25%                      0.000000                          0.000000   \n",
       "50%                      0.083333                          0.166667   \n",
       "75%                      0.333333                          0.750000   \n",
       "max                      1.000000                          1.000000   \n",
       "\n",
       "       CASH_ADVANCE_FREQUENCY  CASH_ADVANCE_TRX  PURCHASES_TRX  CREDIT_LIMIT  \\\n",
       "count             8636.000000       8636.000000    8636.000000   8636.000000   \n",
       "mean                 0.137604          3.313918      15.033233   4522.091030   \n",
       "std                  0.201791          6.912506      25.180468   3659.240379   \n",
       "min                  0.000000          0.000000       0.000000     50.000000   \n",
       "25%                  0.000000          0.000000       1.000000   1600.000000   \n",
       "50%                  0.000000          0.000000       7.000000   3000.000000   \n",
       "75%                  0.250000          4.000000      18.000000   6500.000000   \n",
       "max                  1.500000        123.000000     358.000000  30000.000000   \n",
       "\n",
       "           PAYMENTS  MINIMUM_PAYMENTS  PRC_FULL_PAYMENT       TENURE  \n",
       "count   8636.000000       8636.000000       8636.000000  8636.000000  \n",
       "mean    1784.478099        864.304943          0.159304    11.534391  \n",
       "std     2909.810090       2372.566350          0.296271     1.310984  \n",
       "min        0.049513          0.019163          0.000000     6.000000  \n",
       "25%      418.559237        169.163545          0.000000    12.000000  \n",
       "50%      896.675701        312.452292          0.000000    12.000000  \n",
       "75%     1951.142090        825.496463          0.166667    12.000000  \n",
       "max    50721.483360      76406.207520          1.000000    12.000000  "
      ]
     },
     "execution_count": 12,
     "metadata": {},
     "output_type": "execute_result"
    }
   ],
   "source": [
    "df.describe()"
   ]
  },
  {
   "cell_type": "code",
   "execution_count": 13,
   "metadata": {},
   "outputs": [
    {
     "data": {
      "text/plain": [
       "array(['BALANCE', 'BALANCE_FREQUENCY', 'PURCHASES', 'ONEOFF_PURCHASES',\n",
       "       'INSTALLMENTS_PURCHASES', 'CASH_ADVANCE', 'PURCHASES_FREQUENCY',\n",
       "       'ONEOFF_PURCHASES_FREQUENCY', 'PURCHASES_INSTALLMENTS_FREQUENCY',\n",
       "       'CASH_ADVANCE_FREQUENCY', 'CASH_ADVANCE_TRX', 'PURCHASES_TRX',\n",
       "       'CREDIT_LIMIT', 'PAYMENTS', 'MINIMUM_PAYMENTS', 'PRC_FULL_PAYMENT',\n",
       "       'TENURE'], dtype=object)"
      ]
     },
     "execution_count": 13,
     "metadata": {},
     "output_type": "execute_result"
    }
   ],
   "source": [
    "df.columns.values"
   ]
  },
  {
   "cell_type": "code",
   "execution_count": 14,
   "metadata": {},
   "outputs": [
    {
     "name": "stdout",
     "output_type": "stream",
     "text": [
      "<class 'pandas.core.frame.DataFrame'>\n",
      "Int64Index: 8636 entries, 0 to 8949\n",
      "Data columns (total 17 columns):\n",
      " #   Column                            Non-Null Count  Dtype  \n",
      "---  ------                            --------------  -----  \n",
      " 0   BALANCE                           8636 non-null   float64\n",
      " 1   BALANCE_FREQUENCY                 8636 non-null   float64\n",
      " 2   PURCHASES                         8636 non-null   float64\n",
      " 3   ONEOFF_PURCHASES                  8636 non-null   float64\n",
      " 4   INSTALLMENTS_PURCHASES            8636 non-null   float64\n",
      " 5   CASH_ADVANCE                      8636 non-null   float64\n",
      " 6   PURCHASES_FREQUENCY               8636 non-null   float64\n",
      " 7   ONEOFF_PURCHASES_FREQUENCY        8636 non-null   float64\n",
      " 8   PURCHASES_INSTALLMENTS_FREQUENCY  8636 non-null   float64\n",
      " 9   CASH_ADVANCE_FREQUENCY            8636 non-null   float64\n",
      " 10  CASH_ADVANCE_TRX                  8636 non-null   int64  \n",
      " 11  PURCHASES_TRX                     8636 non-null   int64  \n",
      " 12  CREDIT_LIMIT                      8636 non-null   float64\n",
      " 13  PAYMENTS                          8636 non-null   float64\n",
      " 14  MINIMUM_PAYMENTS                  8636 non-null   float64\n",
      " 15  PRC_FULL_PAYMENT                  8636 non-null   float64\n",
      " 16  TENURE                            8636 non-null   int64  \n",
      "dtypes: float64(14), int64(3)\n",
      "memory usage: 1.2 MB\n"
     ]
    }
   ],
   "source": [
    "df.info()"
   ]
  },
  {
   "cell_type": "code",
   "execution_count": 39,
   "metadata": {},
   "outputs": [
    {
     "data": {
      "image/png": "[encoded data removed]",
      "text/plain": [
       "<Figure size 432x288 with 1 Axes>"
      ]
     },
     "metadata": {
      "needs_background": "light"
     },
     "output_type": "display_data"
    }
   ],
   "source": [
    "#Veo como estan mis variables sin normalizar.\n",
    "sns.boxplot(data = pd.DataFrame(df))\n",
    "plt.xlabel(\"features\")\n",
    "plt.ylabel(\"Valor\")\n",
    "plt.show()"
   ]
  },
  {
   "cell_type": "markdown",
   "metadata": {},
   "source": [
    "## Visualizaciones\n",
    "Uso boxplots/heatmap para ver como estoy parado con las variables y sus valores."
   ]
  },
  {
   "cell_type": "code",
   "execution_count": 16,
   "metadata": {},
   "outputs": [
    {
     "data": {
      "image/png": "[encoded data removed]",
      "text/plain": [
       "<Figure size 432x288 with 1 Axes>"
      ]
     },
     "metadata": {
      "needs_background": "light"
     },
     "output_type": "display_data"
    }
   ],
   "source": [
    "#Veo como se comportan las variables/features relacionadas a los campos de frecuencia.\n",
    "ax1 = df.loc[:,['BALANCE_FREQUENCY','PURCHASES_INSTALLMENTS_FREQUENCY','PURCHASES_FREQUENCY','ONEOFF_PURCHASES_FREQUENCY','CASH_ADVANCE_FREQUENCY']]\n",
    "ax = sns.boxplot(data=ax1, orient=\"h\", palette=\"Set3\")"
   ]
  },
  {
   "cell_type": "code",
   "execution_count": 17,
   "metadata": {},
   "outputs": [
    {
     "data": {
      "image/png": "[encoded data removed]",
      "text/plain": [
       "<Figure size 432x288 with 2 Axes>"
      ]
     },
     "metadata": {
      "needs_background": "light"
     },
     "output_type": "display_data"
    }
   ],
   "source": [
    "sns.heatmap(df)\n",
    "plt.show()"
   ]
  },
  {
   "cell_type": "markdown",
   "metadata": {},
   "source": [
    "## Normalizo la informacion\n",
    "llevo todo a las misma escala, mayormente se debe a que la dispersion entre variables es muy alta ( estoy trabajando con valores absolutos y frecuencias)."
   ]
  },
  {
   "cell_type": "code",
   "execution_count": 18,
   "metadata": {},
   "outputs": [
    {
     "data": {
      "text/plain": [
       "StandardScaler()"
      ]
     },
     "execution_count": 18,
     "metadata": {},
     "output_type": "execute_result"
    }
   ],
   "source": [
    "scaler = preprocessing.StandardScaler().fit(df)\n",
    "scaler"
   ]
  },
  {
   "cell_type": "code",
   "execution_count": 19,
   "metadata": {},
   "outputs": [
    {
     "data": {
      "text/plain": [
       "array([[-0.74462486, -0.37004679, -0.42918384, ..., -0.30550763,\n",
       "        -0.53772694,  0.35518066],\n",
       "       [ 0.76415211,  0.06767893, -0.47320819, ...,  0.08768873,\n",
       "         0.21238001,  0.35518066],\n",
       "       [ 0.42660239,  0.50540465, -0.11641251, ..., -0.09990611,\n",
       "        -0.53772694,  0.35518066],\n",
       "       ...,\n",
       "       [-0.75297728, -0.29709491, -0.40657175, ..., -0.32957217,\n",
       "         0.30614422, -4.22180042],\n",
       "       [-0.75772142, -0.29709491, -0.47320819, ..., -0.34081076,\n",
       "         0.30614422, -4.22180042],\n",
       "       [-0.58627829, -1.09958965,  0.03129519, ..., -0.32709767,\n",
       "        -0.53772694, -4.22180042]])"
      ]
     },
     "execution_count": 19,
     "metadata": {},
     "output_type": "execute_result"
    }
   ],
   "source": [
    "xscal = scaler.transform(df)\n",
    "xscal"
   ]
  },
  {
   "cell_type": "code",
   "execution_count": 20,
   "metadata": {},
   "outputs": [
    {
     "data": {
      "image/png": "[encoded data removed]",
      "text/plain": [
       "<Figure size 432x288 with 1 Axes>"
      ]
     },
     "metadata": {
      "needs_background": "light"
     },
     "output_type": "display_data"
    }
   ],
   "source": [
    "#Veo como estan mis variables normalizadas.\n",
    "sns.boxplot(data = pd.DataFrame(xscal))\n",
    "plt.xlabel(\"features\")\n",
    "plt.ylabel(\"Valor luego de autoscaling\")\n",
    "plt.show()"
   ]
  },
  {
   "cell_type": "code",
   "execution_count": 21,
   "metadata": {},
   "outputs": [
    {
     "data": {
      "image/png": "[encoded data removed]",
      "text/plain": [
       "<Figure size 432x288 with 2 Axes>"
      ]
     },
     "metadata": {
      "needs_background": "light"
     },
     "output_type": "display_data"
    }
   ],
   "source": [
    "sns.heatmap(xscal)\n",
    "plt.show()"
   ]
  },
  {
   "cell_type": "code",
   "execution_count": 22,
   "metadata": {},
   "outputs": [],
   "source": [
    "cluster_df=df[['PURCHASES','ONEOFF_PURCHASES','PURCHASES_TRX','ONEOFF_PURCHASES_FREQUENCY','INSTALLMENTS_PURCHASES','PURCHASES_FREQUENCY','PURCHASES_INSTALLMENTS_FREQUENCY','CREDIT_LIMIT','PAYMENTS','CASH_ADVANCE_FREQUENCY']]"
   ]
  },
  {
   "cell_type": "markdown",
   "metadata": {},
   "source": [
    "## KNN r\n",
    "Uso KNN para clusterizar/agrupar segun segmentos."
   ]
  },
  {
   "cell_type": "code",
   "execution_count": 23,
   "metadata": {},
   "outputs": [
    {
     "data": {
      "text/plain": [
       "array([[-3.24705625e-03,  3.92769954e-01, -3.47659501e-01,\n",
       "        -2.27513487e-01, -4.03758613e-01, -1.09445028e-01,\n",
       "        -8.22208552e-01, -3.43960902e-01, -7.61224344e-01,\n",
       "         8.10102135e-02, -4.43205284e-02, -4.69474534e-01,\n",
       "        -3.08386119e-01, -2.55647476e-01, -1.37175114e-02,\n",
       "        -4.64634326e-01,  2.65532986e-01],\n",
       "       [-3.75849197e-01,  3.23719089e-01, -4.56519740e-02,\n",
       "        -2.35783505e-01,  3.25251600e-01, -3.71469472e-01,\n",
       "         9.75250976e-01, -3.57359613e-01,  1.16969119e+00,\n",
       "        -4.83999151e-01, -3.66276973e-01,  1.67486430e-01,\n",
       "        -2.85934409e-01, -2.36431885e-01, -1.07104600e-02,\n",
       "         2.81848076e-01,  2.52807854e-01],\n",
       "       [ 1.41627829e+00,  3.88853519e-01,  6.93447531e+00,\n",
       "         6.08410570e+00,  5.21119009e+00,  2.22098133e-02,\n",
       "         1.07041155e+00,  1.85193169e+00,  1.02947560e+00,\n",
       "        -2.63985200e-01, -5.93602050e-02,  4.62531056e+00,\n",
       "         2.14707871e+00,  4.78311785e+00,  1.07320528e+00,\n",
       "         7.85191699e-01,  3.27608482e-01],\n",
       "       [ 1.19283370e-01,  4.08391952e-01,  9.34697547e-01,\n",
       "         8.90295435e-01,  5.73710638e-01, -3.08120914e-01,\n",
       "         1.08596806e+00,  1.85619461e+00,  5.38776676e-01,\n",
       "        -4.13055467e-01, -3.20131929e-01,  1.19596468e+00,\n",
       "         7.10708824e-01,  3.92076930e-01, -5.17114791e-02,\n",
       "         4.49246455e-01,  2.99634770e-01],\n",
       "       [-3.28352368e-01, -3.16680377e-01, -2.86649544e-01,\n",
       "        -2.14608118e-01, -2.82955503e-01,  8.14030714e-02,\n",
       "        -1.69430759e-01, -2.78856721e-01, -2.03883983e-01,\n",
       "         3.23968505e-01, -4.18496373e-03, -3.83808744e-01,\n",
       "        -5.56123978e-01, -3.81544886e-01, -2.18446902e-01,\n",
       "         2.04491326e-02, -3.24285647e+00],\n",
       "       [ 1.66801364e+00,  3.77738999e-01, -2.09011766e-01,\n",
       "        -1.53525787e-01, -2.12113801e-01,  1.97583728e+00,\n",
       "        -4.58110671e-01, -1.95416732e-01, -4.05331184e-01,\n",
       "         1.88673054e+00,  1.91334627e+00, -2.47391990e-01,\n",
       "         1.01700005e+00,  8.01218613e-01,  5.58348552e-01,\n",
       "        -4.12923515e-01,  6.60434114e-02],\n",
       "       [-6.99106038e-01, -2.22409600e+00, -2.98495649e-01,\n",
       "        -2.23853326e-01, -2.94220080e-01, -3.12331526e-01,\n",
       "        -5.52772218e-01, -4.10311905e-01, -4.63484559e-01,\n",
       "        -5.12003807e-01, -3.71698302e-01, -4.16521963e-01,\n",
       "        -1.68796365e-01, -1.56209156e-01, -2.95693101e-01,\n",
       "         4.16494709e-01,  2.08942245e-01]])"
      ]
     },
     "execution_count": 23,
     "metadata": {},
     "output_type": "execute_result"
    }
   ],
   "source": [
    "#Genero los valores que necesito.\n",
    "variacion = []\n",
    "I = range(1,8)\n",
    "for i in I:\n",
    "    kmeans = KMeans(n_clusters=i)\n",
    "    kmeans.fit(xscal)\n",
    "    variacion.append(kmeans.inertia_)\n",
    "centers = kmeans.cluster_centers_\n",
    "centers"
   ]
  },
  {
   "cell_type": "code",
   "execution_count": 24,
   "metadata": {},
   "outputs": [
    {
     "data": {
      "image/png": "[encoded data removed]",
      "text/plain": [
       "<Figure size 432x288 with 1 Axes>"
      ]
     },
     "metadata": {
      "needs_background": "light"
     },
     "output_type": "display_data"
    },
    {
     "name": "stdout",
     "output_type": "stream",
     "text": [
      "se puede apreciar un codo en k=2\n"
     ]
    }
   ],
   "source": [
    "#Reviso como se comporta el codo\n",
    "plt.plot(I, variacion, 'bx-')\n",
    "plt.xlabel('o')\n",
    "plt.ylabel('variacion')\n",
    "plt.title('The Elbow Method showing the optimal k')\n",
    "plt.show()\n",
    "print('se puede apreciar un codo en k=2')"
   ]
  },
  {
   "cell_type": "code",
   "execution_count": 25,
   "metadata": {},
   "outputs": [
    {
     "data": {
      "text/html": [
       "<div>\n",
       "<style scoped>\n",
       "    .dataframe tbody tr th:only-of-type {\n",
       "        vertical-align: middle;\n",
       "    }\n",
       "\n",
       "    .dataframe tbody tr th {\n",
       "        vertical-align: top;\n",
       "    }\n",
       "\n",
       "    .dataframe thead th {\n",
       "        text-align: right;\n",
       "    }\n",
       "</style>\n",
       "<table border=\"1\" class=\"dataframe\">\n",
       "  <thead>\n",
       "    <tr style=\"text-align: right;\">\n",
       "      <th></th>\n",
       "      <th>Cluster</th>\n",
       "      <th>silscore</th>\n",
       "    </tr>\n",
       "  </thead>\n",
       "  <tbody>\n",
       "    <tr>\n",
       "      <th>0</th>\n",
       "      <td>Kmeans</td>\n",
       "      <td>0.208923</td>\n",
       "    </tr>\n",
       "  </tbody>\n",
       "</table>\n",
       "</div>"
      ],
      "text/plain": [
       "  Cluster  silscore\n",
       "0  Kmeans  0.208923"
      ]
     },
     "execution_count": 25,
     "metadata": {},
     "output_type": "execute_result"
    }
   ],
   "source": [
    "#Calculo el silhouette score para tenes una nocion de como se comporta el modelo con KNNr\n",
    "resultados = pd.DataFrame(columns=['Cluster','silscore'])\n",
    "kmeans = KMeans(n_clusters=2).fit(xscal)\n",
    "sil_score = silhouette_score(xscal,kmeans.labels_,metric='euclidean')\n",
    "resultados = resultados.append({'Cluster':'Kmeans',\n",
    "                                'silscore':sil_score},ignore_index=True)\n",
    "resultados\n",
    "                    "
   ]
  },
  {
   "cell_type": "code",
   "execution_count": 26,
   "metadata": {},
   "outputs": [
    {
     "data": {
      "text/plain": [
       "array([0, 0, 1, ..., 0, 0, 0])"
      ]
     },
     "execution_count": 26,
     "metadata": {},
     "output_type": "execute_result"
    }
   ],
   "source": [
    "kmeans.labels_"
   ]
  },
  {
   "cell_type": "code",
   "execution_count": 27,
   "metadata": {},
   "outputs": [
    {
     "name": "stderr",
     "output_type": "stream",
     "text": [
      "C:\\Users\\mur_9\\anaconda3\\lib\\site-packages\\seaborn\\_decorators.py:36: FutureWarning: Pass the following variable as a keyword arg: x. From version 0.12, the only valid positional argument will be `data`, and passing other arguments without an explicit keyword will result in an error or misinterpretation.\n",
      "  warnings.warn(\n"
     ]
    },
    {
     "data": {
      "image/png": "[encoded data removed]",
      "text/plain": [
       "<Figure size 432x288 with 1 Axes>"
      ]
     },
     "metadata": {
      "needs_background": "light"
     },
     "output_type": "display_data"
    }
   ],
   "source": [
    "#Veo como se componen los grupos\n",
    "sns.countplot(kmeans.labels_)\n",
    "plt.title(\"Cantidad de muestras por cluster K means\")\n",
    "plt.xlabel(\"Clusters\")\n",
    "plt.show()"
   ]
  },
  {
   "cell_type": "code",
   "execution_count": 28,
   "metadata": {},
   "outputs": [
    {
     "data": {
      "image/png": "[encoded data removed]",
      "text/plain": [
       "<Figure size 432x288 with 1 Axes>"
      ]
     },
     "metadata": {
      "needs_background": "light"
     },
     "output_type": "display_data"
    }
   ],
   "source": [
    "sns.boxplot(data = pd.DataFrame(xscal))\n",
    "plt.xlabel(\"features\")\n",
    "plt.ylabel(\"Valor luego de autoscaling\")\n",
    "plt.show()"
   ]
  },
  {
   "cell_type": "markdown",
   "metadata": {},
   "source": [
    "## PCA\n",
    "Busco reducir las dimensiones del problema porque tengo 17 variables dentro de las cuales tengo algunas que estan altamente relacionadas con otras, es decir que me estan diciendo lo mismo (casi)."
   ]
  },
  {
   "cell_type": "code",
   "execution_count": 29,
   "metadata": {},
   "outputs": [
    {
     "data": {
      "text/html": [
       "<div>\n",
       "<style scoped>\n",
       "    .dataframe tbody tr th:only-of-type {\n",
       "        vertical-align: middle;\n",
       "    }\n",
       "\n",
       "    .dataframe tbody tr th {\n",
       "        vertical-align: top;\n",
       "    }\n",
       "\n",
       "    .dataframe thead th {\n",
       "        text-align: right;\n",
       "    }\n",
       "</style>\n",
       "<table border=\"1\" class=\"dataframe\">\n",
       "  <thead>\n",
       "    <tr style=\"text-align: right;\">\n",
       "      <th></th>\n",
       "      <th>Dimension</th>\n",
       "      <th>Peso %</th>\n",
       "    </tr>\n",
       "  </thead>\n",
       "  <tbody>\n",
       "    <tr>\n",
       "      <th>0</th>\n",
       "      <td>0</td>\n",
       "      <td>27.231177</td>\n",
       "    </tr>\n",
       "    <tr>\n",
       "      <th>1</th>\n",
       "      <td>1</td>\n",
       "      <td>20.374308</td>\n",
       "    </tr>\n",
       "    <tr>\n",
       "      <th>2</th>\n",
       "      <td>2</td>\n",
       "      <td>8.918334</td>\n",
       "    </tr>\n",
       "    <tr>\n",
       "      <th>3</th>\n",
       "      <td>3</td>\n",
       "      <td>7.573609</td>\n",
       "    </tr>\n",
       "    <tr>\n",
       "      <th>4</th>\n",
       "      <td>4</td>\n",
       "      <td>6.276618</td>\n",
       "    </tr>\n",
       "    <tr>\n",
       "      <th>5</th>\n",
       "      <td>5</td>\n",
       "      <td>5.712786</td>\n",
       "    </tr>\n",
       "    <tr>\n",
       "      <th>6</th>\n",
       "      <td>6</td>\n",
       "      <td>4.916188</td>\n",
       "    </tr>\n",
       "    <tr>\n",
       "      <th>7</th>\n",
       "      <td>7</td>\n",
       "      <td>4.210734</td>\n",
       "    </tr>\n",
       "    <tr>\n",
       "      <th>8</th>\n",
       "      <td>8</td>\n",
       "      <td>3.681697</td>\n",
       "    </tr>\n",
       "    <tr>\n",
       "      <th>9</th>\n",
       "      <td>9</td>\n",
       "      <td>3.081508</td>\n",
       "    </tr>\n",
       "    <tr>\n",
       "      <th>10</th>\n",
       "      <td>10</td>\n",
       "      <td>2.363804</td>\n",
       "    </tr>\n",
       "    <tr>\n",
       "      <th>11</th>\n",
       "      <td>11</td>\n",
       "      <td>1.774540</td>\n",
       "    </tr>\n",
       "    <tr>\n",
       "      <th>12</th>\n",
       "      <td>12</td>\n",
       "      <td>1.426710</td>\n",
       "    </tr>\n",
       "    <tr>\n",
       "      <th>13</th>\n",
       "      <td>13</td>\n",
       "      <td>1.178660</td>\n",
       "    </tr>\n",
       "    <tr>\n",
       "      <th>14</th>\n",
       "      <td>14</td>\n",
       "      <td>1.008097</td>\n",
       "    </tr>\n",
       "    <tr>\n",
       "      <th>15</th>\n",
       "      <td>15</td>\n",
       "      <td>0.271163</td>\n",
       "    </tr>\n",
       "    <tr>\n",
       "      <th>16</th>\n",
       "      <td>16</td>\n",
       "      <td>0.000069</td>\n",
       "    </tr>\n",
       "  </tbody>\n",
       "</table>\n",
       "</div>"
      ],
      "text/plain": [
       "    Dimension     Peso %\n",
       "0           0  27.231177\n",
       "1           1  20.374308\n",
       "2           2   8.918334\n",
       "3           3   7.573609\n",
       "4           4   6.276618\n",
       "5           5   5.712786\n",
       "6           6   4.916188\n",
       "7           7   4.210734\n",
       "8           8   3.681697\n",
       "9           9   3.081508\n",
       "10         10   2.363804\n",
       "11         11   1.774540\n",
       "12         12   1.426710\n",
       "13         13   1.178660\n",
       "14         14   1.008097\n",
       "15         15   0.271163\n",
       "16         16   0.000069"
      ]
     },
     "execution_count": 29,
     "metadata": {},
     "output_type": "execute_result"
    }
   ],
   "source": [
    "var = {}\n",
    "pca = PCA()\n",
    "pca.fit(xscal)\n",
    " \n",
    "for i in range(len(pd.DataFrame(xscal).columns.values)):\n",
    "    cumsum = np.cumsum(pca.explained_variance_ratio_)\n",
    "    d = np.argmax(cumsum >= 0.85) + 1\n",
    "    var [i] = pca.explained_variance_ratio_[i]*100\n",
    "\n",
    "pd.DataFrame(var.items(),columns= ['Dimension','Peso %'])\n"
   ]
  },
  {
   "cell_type": "code",
   "execution_count": 30,
   "metadata": {},
   "outputs": [
    {
     "data": {
      "image/png": "[encoded data removed]",
      "text/plain": [
       "<Figure size 864x432 with 2 Axes>"
      ]
     },
     "metadata": {
      "needs_background": "light"
     },
     "output_type": "display_data"
    }
   ],
   "source": [
    "#pca = PCA().fit(xscal)\n",
    "#plt.plot(np.cumsum(pca.explained_variance_ratio_))\n",
    "#plt.xlim(0,16,1)\n",
    "#plt.grid()\n",
    "#plt.xlabel('Number of components')\n",
    "#plt.ylabel('Cumulative explained variance')\n",
    "#%time\n",
    "n_comps = 16\n",
    "components = range(1,n_comps + 1)\n",
    "pca = PCA(n_components=n_comps)\n",
    "pca.fit(xscal)\n",
    "xpca = pca.transform(xscal)\n",
    "eigenvalues = pca.explained_variance_ratio_\n",
    "eigenvalues_acum = pca.explained_variance_ratio_.cumsum() \n",
    "# Definimos la cantidad de componentes\n",
    "\n",
    "\n",
    "# Graficamos\n",
    "# Eje Izquierdo\n",
    "fig, ax1 = plt.subplots(figsize=(12,6))\n",
    "ax1.set_xlabel('Componentes Principales',fontsize=20)\n",
    "ax1.set_ylabel('Varianza Explicada', color='k',fontsize=20)\n",
    "ax1.bar(components, eigenvalues, color='blue')\n",
    "ax1.tick_params(axis='y', labelcolor='blue')\n",
    "\n",
    "# Eje derecho\n",
    "ax2 = ax1.twinx()  # instantiate a second axes that shares the same x-axis\n",
    "ax2.set_ylabel('Varianza Acumulada', color='k',fontsize=20) \n",
    "ax2.plot(components, eigenvalues_acum, color='red') \n",
    "ax2.tick_params(axis='y', labelcolor='red')\n",
    "\n",
    "fig.tight_layout()  # otherwise the right y-label is slightly clipped\n",
    "plt.show()"
   ]
  },
  {
   "cell_type": "code",
   "execution_count": 31,
   "metadata": {},
   "outputs": [],
   "source": [
    "n_comps= d\n",
    "components = range(1,n_comps + 1)\n",
    "pca = PCA(n_components=n_comps)\n",
    "pca.fit(xscal)\n",
    "xpca = pca.transform(xscal)"
   ]
  },
  {
   "cell_type": "code",
   "execution_count": 32,
   "metadata": {},
   "outputs": [
    {
     "data": {
      "text/html": [
       "<div>\n",
       "<style scoped>\n",
       "    .dataframe tbody tr th:only-of-type {\n",
       "        vertical-align: middle;\n",
       "    }\n",
       "\n",
       "    .dataframe tbody tr th {\n",
       "        vertical-align: top;\n",
       "    }\n",
       "\n",
       "    .dataframe thead th {\n",
       "        text-align: right;\n",
       "    }\n",
       "</style>\n",
       "<table border=\"1\" class=\"dataframe\">\n",
       "  <thead>\n",
       "    <tr style=\"text-align: right;\">\n",
       "      <th></th>\n",
       "      <th>Cluster</th>\n",
       "      <th>silscore</th>\n",
       "    </tr>\n",
       "  </thead>\n",
       "  <tbody>\n",
       "    <tr>\n",
       "      <th>0</th>\n",
       "      <td>Kmeans</td>\n",
       "      <td>0.208923</td>\n",
       "    </tr>\n",
       "    <tr>\n",
       "      <th>1</th>\n",
       "      <td>PCA+Kmeans</td>\n",
       "      <td>0.237919</td>\n",
       "    </tr>\n",
       "  </tbody>\n",
       "</table>\n",
       "</div>"
      ],
      "text/plain": [
       "      Cluster  silscore\n",
       "0      Kmeans  0.208923\n",
       "1  PCA+Kmeans  0.237919"
      ]
     },
     "execution_count": 32,
     "metadata": {},
     "output_type": "execute_result"
    }
   ],
   "source": [
    "kmean = KMeans(n_clusters=2)\n",
    "kmean.fit(xpca)\n",
    "labels=kmean.labels_\n",
    "labels=labels.tolist()\n",
    "labels=pd.Series(data=labels,index=range(len(labels)))\n",
    "labels_x=list()\n",
    "for i in range(d):\n",
    "    labels_x.append(labels[labels.values==i])\n",
    "sil_score = silhouette_score(xpca,labels)\n",
    "resultados = resultados.append({'Cluster': 'PCA+Kmeans','silscore':sil_score},ignore_index=True)\n",
    "resultados\n"
   ]
  },
  {
   "cell_type": "code",
   "execution_count": 33,
   "metadata": {},
   "outputs": [
    {
     "data": {
      "image/png": "[encoded data removed]",
      "text/plain": [
       "<Figure size 648x432 with 1 Axes>"
      ]
     },
     "metadata": {
      "needs_background": "light"
     },
     "output_type": "display_data"
    }
   ],
   "source": [
    "plt.figure(figsize=(9,6))\n",
    "plt.scatter(xpca[:,0],xpca[:,1])    \n",
    "plt.xlabel('PC 1')\n",
    "plt.ylabel('PC 2')\n",
    "plt.title('Figura de PC1 y PC2')\n",
    "plt.show()\n"
   ]
  },
  {
   "cell_type": "code",
   "execution_count": 34,
   "metadata": {},
   "outputs": [
    {
     "name": "stdout",
     "output_type": "stream",
     "text": [
      "Se puede apreciar que gracias a reducir las dimensiones en 9 y normalizar con stdscaler, mejoro \n",
      "el Clustering ya que PCA+Kmeans tiene un silhouette score mayor a Kmeans indicando mas overlap en los grupos.\n"
     ]
    }
   ],
   "source": [
    "print(f'Se puede apreciar que gracias a reducir las dimensiones en {17-d} y normalizar con stdscaler, mejoro \\nel Clustering ya que {resultados.Cluster[1]} tiene un silhouette score mayor a {resultados.Cluster[0]} indicando mas overlap en los grupos.')"
   ]
  },
  {
   "cell_type": "code",
   "execution_count": 35,
   "metadata": {},
   "outputs": [
    {
     "data": {
      "text/plain": [
       "Text(0, 0.5, 'PC 2')"
      ]
     },
     "execution_count": 35,
     "metadata": {},
     "output_type": "execute_result"
    },
    {
     "data": {
      "image/png": "[encoded data removed]",
      "text/plain": [
       "<Figure size 648x432 with 1 Axes>"
      ]
     },
     "metadata": {
      "needs_background": "light"
     },
     "output_type": "display_data"
    }
   ],
   "source": [
    "#Grafico los dos grupos con PCA + KNNr (C0: OK ;C1 : NO OK)\n",
    "color_map={0:'g',1:'r'}\n",
    "label_color=[color_map[l] for l in labels]\n",
    "plt.figure(figsize=(9,6))\n",
    "plt.scatter(xpca[:,0],xpca[:,1],c=label_color,cmap='Diverging',alpha=0.1)\n",
    "plt.xlabel('PC 1')\n",
    "plt.ylabel('PC 2')"
   ]
  },
  {
   "cell_type": "code",
   "execution_count": 36,
   "metadata": {},
   "outputs": [
    {
     "data": {
      "text/html": [
       "<div>\n",
       "<style scoped>\n",
       "    .dataframe tbody tr th:only-of-type {\n",
       "        vertical-align: middle;\n",
       "    }\n",
       "\n",
       "    .dataframe tbody tr th {\n",
       "        vertical-align: top;\n",
       "    }\n",
       "\n",
       "    .dataframe thead th {\n",
       "        text-align: right;\n",
       "    }\n",
       "</style>\n",
       "<table border=\"1\" class=\"dataframe\">\n",
       "  <thead>\n",
       "    <tr style=\"text-align: right;\">\n",
       "      <th></th>\n",
       "      <th>PURCHASES</th>\n",
       "      <th>ONEOFF_PURCHASES</th>\n",
       "      <th>PURCHASES_TRX</th>\n",
       "      <th>ONEOFF_PURCHASES_FREQUENCY</th>\n",
       "      <th>INSTALLMENTS_PURCHASES</th>\n",
       "      <th>PURCHASES_FREQUENCY</th>\n",
       "      <th>PURCHASES_INSTALLMENTS_FREQUENCY</th>\n",
       "      <th>CREDIT_LIMIT</th>\n",
       "      <th>PAYMENTS</th>\n",
       "      <th>CASH_ADVANCE_FREQUENCY</th>\n",
       "    </tr>\n",
       "  </thead>\n",
       "  <tbody>\n",
       "    <tr>\n",
       "      <th>count</th>\n",
       "      <td>5052.000000</td>\n",
       "      <td>5052.000000</td>\n",
       "      <td>5052.000000</td>\n",
       "      <td>5052.000000</td>\n",
       "      <td>5052.000000</td>\n",
       "      <td>5052.000000</td>\n",
       "      <td>5052.000000</td>\n",
       "      <td>5052.000000</td>\n",
       "      <td>5052.000000</td>\n",
       "      <td>5052.000000</td>\n",
       "    </tr>\n",
       "    <tr>\n",
       "      <th>mean</th>\n",
       "      <td>288.679612</td>\n",
       "      <td>207.886692</td>\n",
       "      <td>3.561758</td>\n",
       "      <td>0.092378</td>\n",
       "      <td>81.082338</td>\n",
       "      <td>0.204605</td>\n",
       "      <td>0.110320</td>\n",
       "      <td>4100.110427</td>\n",
       "      <td>1489.022630</td>\n",
       "      <td>0.195389</td>\n",
       "    </tr>\n",
       "    <tr>\n",
       "      <th>std</th>\n",
       "      <td>484.795359</td>\n",
       "      <td>441.886115</td>\n",
       "      <td>4.981727</td>\n",
       "      <td>0.150909</td>\n",
       "      <td>195.863127</td>\n",
       "      <td>0.238420</td>\n",
       "      <td>0.198367</td>\n",
       "      <td>3317.845796</td>\n",
       "      <td>2487.429744</td>\n",
       "      <td>0.222111</td>\n",
       "    </tr>\n",
       "    <tr>\n",
       "      <th>min</th>\n",
       "      <td>0.000000</td>\n",
       "      <td>0.000000</td>\n",
       "      <td>0.000000</td>\n",
       "      <td>0.000000</td>\n",
       "      <td>0.000000</td>\n",
       "      <td>0.000000</td>\n",
       "      <td>0.000000</td>\n",
       "      <td>50.000000</td>\n",
       "      <td>0.049513</td>\n",
       "      <td>0.000000</td>\n",
       "    </tr>\n",
       "    <tr>\n",
       "      <th>25%</th>\n",
       "      <td>0.000000</td>\n",
       "      <td>0.000000</td>\n",
       "      <td>0.000000</td>\n",
       "      <td>0.000000</td>\n",
       "      <td>0.000000</td>\n",
       "      <td>0.000000</td>\n",
       "      <td>0.000000</td>\n",
       "      <td>1500.000000</td>\n",
       "      <td>349.385349</td>\n",
       "      <td>0.000000</td>\n",
       "    </tr>\n",
       "    <tr>\n",
       "      <th>50%</th>\n",
       "      <td>88.985000</td>\n",
       "      <td>0.000000</td>\n",
       "      <td>1.000000</td>\n",
       "      <td>0.000000</td>\n",
       "      <td>0.000000</td>\n",
       "      <td>0.083333</td>\n",
       "      <td>0.000000</td>\n",
       "      <td>3000.000000</td>\n",
       "      <td>705.204074</td>\n",
       "      <td>0.125000</td>\n",
       "    </tr>\n",
       "    <tr>\n",
       "      <th>75%</th>\n",
       "      <td>375.022500</td>\n",
       "      <td>216.955000</td>\n",
       "      <td>6.000000</td>\n",
       "      <td>0.125000</td>\n",
       "      <td>73.830000</td>\n",
       "      <td>0.333333</td>\n",
       "      <td>0.166667</td>\n",
       "      <td>6000.000000</td>\n",
       "      <td>1583.451883</td>\n",
       "      <td>0.333333</td>\n",
       "    </tr>\n",
       "    <tr>\n",
       "      <th>max</th>\n",
       "      <td>5197.220000</td>\n",
       "      <td>4900.000000</td>\n",
       "      <td>48.000000</td>\n",
       "      <td>1.000000</td>\n",
       "      <td>3000.000000</td>\n",
       "      <td>1.000000</td>\n",
       "      <td>1.000000</td>\n",
       "      <td>23000.000000</td>\n",
       "      <td>39048.597620</td>\n",
       "      <td>1.500000</td>\n",
       "    </tr>\n",
       "  </tbody>\n",
       "</table>\n",
       "</div>"
      ],
      "text/plain": [
       "         PURCHASES  ONEOFF_PURCHASES  PURCHASES_TRX  \\\n",
       "count  5052.000000       5052.000000    5052.000000   \n",
       "mean    288.679612        207.886692       3.561758   \n",
       "std     484.795359        441.886115       4.981727   \n",
       "min       0.000000          0.000000       0.000000   \n",
       "25%       0.000000          0.000000       0.000000   \n",
       "50%      88.985000          0.000000       1.000000   \n",
       "75%     375.022500        216.955000       6.000000   \n",
       "max    5197.220000       4900.000000      48.000000   \n",
       "\n",
       "       ONEOFF_PURCHASES_FREQUENCY  INSTALLMENTS_PURCHASES  \\\n",
       "count                 5052.000000             5052.000000   \n",
       "mean                     0.092378               81.082338   \n",
       "std                      0.150909              195.863127   \n",
       "min                      0.000000                0.000000   \n",
       "25%                      0.000000                0.000000   \n",
       "50%                      0.000000                0.000000   \n",
       "75%                      0.125000               73.830000   \n",
       "max                      1.000000             3000.000000   \n",
       "\n",
       "       PURCHASES_FREQUENCY  PURCHASES_INSTALLMENTS_FREQUENCY  CREDIT_LIMIT  \\\n",
       "count          5052.000000                       5052.000000   5052.000000   \n",
       "mean              0.204605                          0.110320   4100.110427   \n",
       "std               0.238420                          0.198367   3317.845796   \n",
       "min               0.000000                          0.000000     50.000000   \n",
       "25%               0.000000                          0.000000   1500.000000   \n",
       "50%               0.083333                          0.000000   3000.000000   \n",
       "75%               0.333333                          0.166667   6000.000000   \n",
       "max               1.000000                          1.000000  23000.000000   \n",
       "\n",
       "           PAYMENTS  CASH_ADVANCE_FREQUENCY  \n",
       "count   5052.000000             5052.000000  \n",
       "mean    1489.022630                0.195389  \n",
       "std     2487.429744                0.222111  \n",
       "min        0.049513                0.000000  \n",
       "25%      349.385349                0.000000  \n",
       "50%      705.204074                0.125000  \n",
       "75%     1583.451883                0.333333  \n",
       "max    39048.597620                1.500000  "
      ]
     },
     "execution_count": 36,
     "metadata": {},
     "output_type": "execute_result"
    }
   ],
   "source": [
    "C1 = cluster_df.iloc[labels_x[1].index,:].describe()\n",
    "C1"
   ]
  },
  {
   "cell_type": "code",
   "execution_count": 37,
   "metadata": {},
   "outputs": [
    {
     "data": {
      "text/html": [
       "<div>\n",
       "<style scoped>\n",
       "    .dataframe tbody tr th:only-of-type {\n",
       "        vertical-align: middle;\n",
       "    }\n",
       "\n",
       "    .dataframe tbody tr th {\n",
       "        vertical-align: top;\n",
       "    }\n",
       "\n",
       "    .dataframe thead th {\n",
       "        text-align: right;\n",
       "    }\n",
       "</style>\n",
       "<table border=\"1\" class=\"dataframe\">\n",
       "  <thead>\n",
       "    <tr style=\"text-align: right;\">\n",
       "      <th></th>\n",
       "      <th>PURCHASES</th>\n",
       "      <th>ONEOFF_PURCHASES</th>\n",
       "      <th>PURCHASES_TRX</th>\n",
       "      <th>ONEOFF_PURCHASES_FREQUENCY</th>\n",
       "      <th>INSTALLMENTS_PURCHASES</th>\n",
       "      <th>PURCHASES_FREQUENCY</th>\n",
       "      <th>PURCHASES_INSTALLMENTS_FREQUENCY</th>\n",
       "      <th>CREDIT_LIMIT</th>\n",
       "      <th>PAYMENTS</th>\n",
       "      <th>CASH_ADVANCE_FREQUENCY</th>\n",
       "    </tr>\n",
       "  </thead>\n",
       "  <tbody>\n",
       "    <tr>\n",
       "      <th>count</th>\n",
       "      <td>3584.000000</td>\n",
       "      <td>3584.000000</td>\n",
       "      <td>3584.000000</td>\n",
       "      <td>3584.000000</td>\n",
       "      <td>3584.000000</td>\n",
       "      <td>3584.000000</td>\n",
       "      <td>3584.000000</td>\n",
       "      <td>3584.000000</td>\n",
       "      <td>3584.000000</td>\n",
       "      <td>3584.000000</td>\n",
       "    </tr>\n",
       "    <tr>\n",
       "      <th>mean</th>\n",
       "      <td>2063.961367</td>\n",
       "      <td>1164.532715</td>\n",
       "      <td>31.203404</td>\n",
       "      <td>0.365941</td>\n",
       "      <td>899.770307</td>\n",
       "      <td>0.906750</td>\n",
       "      <td>0.733202</td>\n",
       "      <td>5116.914133</td>\n",
       "      <td>2200.951600</td>\n",
       "      <td>0.056151</td>\n",
       "    </tr>\n",
       "    <tr>\n",
       "      <th>std</th>\n",
       "      <td>3023.684466</td>\n",
       "      <td>2454.812459</td>\n",
       "      <td>32.341754</td>\n",
       "      <td>0.375608</td>\n",
       "      <td>1257.512766</td>\n",
       "      <td>0.139414</td>\n",
       "      <td>0.315323</td>\n",
       "      <td>4018.288189</td>\n",
       "      <td>3374.385921</td>\n",
       "      <td>0.131316</td>\n",
       "    </tr>\n",
       "    <tr>\n",
       "      <th>min</th>\n",
       "      <td>8.400000</td>\n",
       "      <td>0.000000</td>\n",
       "      <td>0.000000</td>\n",
       "      <td>0.000000</td>\n",
       "      <td>0.000000</td>\n",
       "      <td>0.166667</td>\n",
       "      <td>0.000000</td>\n",
       "      <td>300.000000</td>\n",
       "      <td>18.496532</td>\n",
       "      <td>0.000000</td>\n",
       "    </tr>\n",
       "    <tr>\n",
       "      <th>25%</th>\n",
       "      <td>549.022500</td>\n",
       "      <td>0.000000</td>\n",
       "      <td>12.000000</td>\n",
       "      <td>0.000000</td>\n",
       "      <td>256.500000</td>\n",
       "      <td>0.833333</td>\n",
       "      <td>0.583333</td>\n",
       "      <td>2000.000000</td>\n",
       "      <td>574.031856</td>\n",
       "      <td>0.000000</td>\n",
       "    </tr>\n",
       "    <tr>\n",
       "      <th>50%</th>\n",
       "      <td>1218.580000</td>\n",
       "      <td>394.710000</td>\n",
       "      <td>21.000000</td>\n",
       "      <td>0.250000</td>\n",
       "      <td>548.385000</td>\n",
       "      <td>1.000000</td>\n",
       "      <td>0.833333</td>\n",
       "      <td>4000.000000</td>\n",
       "      <td>1250.790953</td>\n",
       "      <td>0.000000</td>\n",
       "    </tr>\n",
       "    <tr>\n",
       "      <th>75%</th>\n",
       "      <td>2457.942500</td>\n",
       "      <td>1401.450000</td>\n",
       "      <td>37.000000</td>\n",
       "      <td>0.666667</td>\n",
       "      <td>1106.670000</td>\n",
       "      <td>1.000000</td>\n",
       "      <td>1.000000</td>\n",
       "      <td>7000.000000</td>\n",
       "      <td>2496.928339</td>\n",
       "      <td>0.000000</td>\n",
       "    </tr>\n",
       "    <tr>\n",
       "      <th>max</th>\n",
       "      <td>49039.570000</td>\n",
       "      <td>40761.250000</td>\n",
       "      <td>358.000000</td>\n",
       "      <td>1.000000</td>\n",
       "      <td>22500.000000</td>\n",
       "      <td>1.000000</td>\n",
       "      <td>1.000000</td>\n",
       "      <td>30000.000000</td>\n",
       "      <td>50721.483360</td>\n",
       "      <td>1.000000</td>\n",
       "    </tr>\n",
       "  </tbody>\n",
       "</table>\n",
       "</div>"
      ],
      "text/plain": [
       "          PURCHASES  ONEOFF_PURCHASES  PURCHASES_TRX  \\\n",
       "count   3584.000000       3584.000000    3584.000000   \n",
       "mean    2063.961367       1164.532715      31.203404   \n",
       "std     3023.684466       2454.812459      32.341754   \n",
       "min        8.400000          0.000000       0.000000   \n",
       "25%      549.022500          0.000000      12.000000   \n",
       "50%     1218.580000        394.710000      21.000000   \n",
       "75%     2457.942500       1401.450000      37.000000   \n",
       "max    49039.570000      40761.250000     358.000000   \n",
       "\n",
       "       ONEOFF_PURCHASES_FREQUENCY  INSTALLMENTS_PURCHASES  \\\n",
       "count                 3584.000000             3584.000000   \n",
       "mean                     0.365941              899.770307   \n",
       "std                      0.375608             1257.512766   \n",
       "min                      0.000000                0.000000   \n",
       "25%                      0.000000              256.500000   \n",
       "50%                      0.250000              548.385000   \n",
       "75%                      0.666667             1106.670000   \n",
       "max                      1.000000            22500.000000   \n",
       "\n",
       "       PURCHASES_FREQUENCY  PURCHASES_INSTALLMENTS_FREQUENCY  CREDIT_LIMIT  \\\n",
       "count          3584.000000                       3584.000000   3584.000000   \n",
       "mean              0.906750                          0.733202   5116.914133   \n",
       "std               0.139414                          0.315323   4018.288189   \n",
       "min               0.166667                          0.000000    300.000000   \n",
       "25%               0.833333                          0.583333   2000.000000   \n",
       "50%               1.000000                          0.833333   4000.000000   \n",
       "75%               1.000000                          1.000000   7000.000000   \n",
       "max               1.000000                          1.000000  30000.000000   \n",
       "\n",
       "           PAYMENTS  CASH_ADVANCE_FREQUENCY  \n",
       "count   3584.000000             3584.000000  \n",
       "mean    2200.951600                0.056151  \n",
       "std     3374.385921                0.131316  \n",
       "min       18.496532                0.000000  \n",
       "25%      574.031856                0.000000  \n",
       "50%     1250.790953                0.000000  \n",
       "75%     2496.928339                0.000000  \n",
       "max    50721.483360                1.000000  "
      ]
     },
     "execution_count": 37,
     "metadata": {},
     "output_type": "execute_result"
    }
   ],
   "source": [
    "C0 = cluster_df.iloc[labels_x[0].index,:].describe()\n",
    "C0"
   ]
  },
  {
   "cell_type": "markdown",
   "metadata": {},
   "source": [
    "### Conclusión"
   ]
  },
  {
   "cell_type": "markdown",
   "metadata": {},
   "source": [
    "Se puede apreciar como se diferencian el Grupo 1 del 0, siendo este ultimo el confiable para aprobar credito.\n",
    "La decision se basa en que la media de pagos para el grupo desprobado ronda los 900 pagos y la aprobada 1500, como adicional se ve una mayor actividad comercial lo que termina viendose reflejado en el limite crediticio de cada grupo.\n",
    "\n",
    "C0 : Creditos Aprobados.\\\n",
    "C1 : Creditos Desaprobados."
   ]
  },
  {
   "cell_type": "code",
   "execution_count": 38,
   "metadata": {},
   "outputs": [
    {
     "name": "stdout",
     "output_type": "stream",
     "text": [
      "hay 8636 de los cuales 0.41500694766095414 pertenecen al grupo que mas compra por mes, mayor limite y ademas realiza mas pagos (cantidad adeudada por el cliente). Siendo este grupo el approvado para creditos. \n"
     ]
    }
   ],
   "source": [
    "print(f'hay {int(cluster_df.PURCHASES.describe()[0])} de los cuales {(int(C0.PURCHASES[0])/int(cluster_df.PURCHASES.describe()[0]))} pertenecen al grupo que mas compra por mes, mayor limite y ademas realiza mas pagos (cantidad adeudada por el cliente). Siendo este grupo el approvado para creditos. ')"
   ]
  }
 ],
 "metadata": {
  "interpreter": {
   "hash": "c6b118cdaebe60f6b54c81cc26e807470d14d2e8c68caf5cc4bacbb774effc26"
  },
  "kernelspec": {
   "display_name": "Python 3.9.7 64-bit ('base': conda)",
   "language": "python",
   "name": "python3"
  },
  "language_info": {
   "codemirror_mode": {
    "name": "ipython",
    "version": 3
   },
   "file_extension": ".py",
   "mimetype": "text/x-python",
   "name": "python",
   "nbconvert_exporter": "python",
   "pygments_lexer": "ipython3",
   "version": "3.9.7"
  },
  "orig_nbformat": 4
 },
 "nbformat": 4,
 "nbformat_minor": 2
}
